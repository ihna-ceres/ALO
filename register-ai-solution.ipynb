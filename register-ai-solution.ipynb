{
 "cells": [
  {
   "attachments": {},
   "cell_type": "markdown",
   "metadata": {},
   "source": [
    "### **STEP-1**. Preparation\n",
    "> You can proceed with the registration process after executing AI solution by \"python main.py\"\n",
    "\n",
    "Create a Jupyter kernel\n",
    "```bash\n",
    "    ## virtual environment where \"python main.py\" was executed\n",
    "    conda activate {ENV-NAME}           \n",
    "    pip install ipykernel        \n",
    "    python -m ipykernel install --user --name {ENV-NAME} --display-name {IPYKERNEL-NAME}\n",
    "```\n"
   ]
  },
  {
   "attachments": {},
   "cell_type": "markdown",
   "metadata": {},
   "source": [
    "### **STEP-2**. Login\n",
    "\n",
    "> If the connection fails, please request the account administrator to create an account for you\n"
   ]
  },
  {
   "cell_type": "code",
   "execution_count": null,
   "metadata": {
    "tags": []
   },
   "outputs": [],
   "source": [
    "import getpass\n",
    "\n",
    "username = input('Username: ')\n",
    "password = getpass.getpass('Password: ')\n",
    "\n",
    "print(\"Your ID : \", username)\n",
    "print(\"Your PW : \", password.replace(password, '*' * len(password)))"
   ]
  },
  {
   "cell_type": "markdown",
   "metadata": {},
   "source": [
    "----"
   ]
  },
  {
   "attachments": {},
   "cell_type": "markdown",
   "metadata": {},
   "source": [
    "### **STEP-3**. Register AI Solution\n",
    "\n",
    "##### Solution information creation\n",
    "- solution_name: name of the solution \n",
    "    - <font color=red> **Note** </font> \n",
    "        - Allowed: lowercase letters, number, dash (-)\n",
    "            - (Spaces, Special characters, and Korean are not supported.)\n",
    "        - Since it will be shared with other users in AI Conductor, it should be written    understandably.\n",
    "        - Names already exist are not allowed. (Only allowed when \"solution_update=True\")\n",
    "<br><br/>\n",
    "- inference_only: Indicates whether the pipeline supports both 'train' and 'inference' \n",
    "    - ex 1: Supports both train and inference --> False\n",
    "    - ex 2: Supports inference only --> True\n",
    "    <br/> (<font color=red> **Note:** </font>  Does not support train only --> ['train'] (X))\n",
    "<br><br/>\n",
    "- solution_update: Decides whether to update an existing solution.\n",
    "    - True: Proceed with the update. Enter the same name as the existing one (an error occurs if the name does not exist)\n",
    "    - False: Create new name. Enter a different name from the existing one (an error occurs if the name exists)\n",
    "<br><br/>\n",
    "- solution_type: The scope of sharing for the AI Solution. Choose one between 'private' and 'public'.\n",
    "    - 'private': Solution to be shared on certain project.\n",
    "    - 'public': Means the solution that will be built-in and universally used.\n",
    "    (Only SYSTEM MANAGER can register)\n",
    "<br><br/>\n",
    "- contents_type: Description for re-train and re-labeling.\n",
    "    - support_labeling: Decide whether to enable re-labeling. If True, re-labeling feature is activated in EdgeConductor.\n",
    "    - inference_result_datatype: Choose between 'table' and 'image' for displaying inference results in EdgeConductor. Must create output.csv or output.jpg during AI solution production.\n",
    "    - train_datatype: Decide the data format for re-train, choosing between 'table' and 'image'.Must create output.csv or output.jpg during AI solution production.\n",
    "    - labeling_column_name: Label column name to be used when relabeling.\n",
    "<br><br/>\n",
    "- train_gpu: Choose between True and False. If True, produce a GPU-based train docker image.\n",
    "<br><br/>\n",
    "- inference_gpu: Choose between True and False. If True, produce a GPU-based inference docker image.\n",
    "<br><br/>\n",
    "- inference_arm: Choose between True and False. If True, produce an inference docker image supporting ARM architecture."
   ]
  },
  {
   "cell_type": "code",
   "execution_count": null,
   "metadata": {
    "tags": []
   },
   "outputs": [],
   "source": [
    "##  AI Solution Information         \n",
    "solution_info ={\n",
    "    'solution_name': 'titanic-solution', \n",
    "    'inference_only': False,\n",
    "    'solution_update': False,\n",
    "    'solution_type': 'private',\n",
    "    'contents_type': {\n",
    "            'support_labeling': False,\n",
    "            'inference_result_datatype': 'table',\n",
    "            'train_datatype': 'table', \n",
    "            'labeling_column_name': ''\n",
    "    },\n",
    "    'train_gpu': False, \n",
    "    'inference_gpu': False,\n",
    "    \"inference_arm\": False\n",
    "}"
   ]
  },
  {
   "attachments": {},
   "cell_type": "markdown",
   "metadata": {},
   "source": [
    "##### Load Infra setup configuration for AI Solution operation information\n",
    "> Set the infra environment by referring to \"./setting/infra_config.yaml\"."
   ]
  },
  {
   "cell_type": "code",
   "execution_count": null,
   "metadata": {
    "tags": []
   },
   "outputs": [],
   "source": [
    "import sys\n",
    "try:\n",
    "    del sys.modules['src.solution_register'], sys.modules['src.constants']\n",
    "except:\n",
    "    pass\n",
    "from src.solution_register import SolutionRegister\n",
    "## register instance\n",
    "infra = \"./setting/infra_config.yaml\"\n",
    "register = SolutionRegister(infra_setup=infra, solution_info=solution_info)\n",
    "## login \n",
    "register.login(username, password)"
   ]
  },
  {
   "attachments": {},
   "cell_type": "markdown",
   "metadata": {},
   "source": [
    "##### Run solution registration\n",
    "> The following processes are executed sequentially.\n",
    "> 1. Solution name creation\n",
    "> 2. Check ECR & S3 resource\n",
    "> 3. Set AI solution description\n",
    "> 4. Display resource list\n",
    "> 5. Set train resource\n",
    "> 6. Set train user parameters\n",
    "> 7. Start setting AWS ECR (train docker)\n",
    "> 8. Set inference resource\n",
    "> 9. Set inference user parameters\n",
    "> 10. Upload inference artifacts to S3\n",
    "> 11. Start setting AWS ECR (inference docker)\n",
    "> 12. Register AI solution\n",
    "> 13. Register AI solution instance"
   ]
  },
  {
   "cell_type": "code",
   "execution_count": null,
   "metadata": {},
   "outputs": [],
   "source": [
    "## Let's register AI solution \n",
    "register.run()"
   ]
  }
 ],
 "metadata": {
  "kernelspec": {
   "display_name": "alo-wrZHZPJV",
   "language": "python",
   "name": "python3"
  },
  "language_info": {
   "codemirror_mode": {
    "name": "ipython",
    "version": 3
   },
   "file_extension": ".py",
   "mimetype": "text/x-python",
   "name": "python",
   "nbconvert_exporter": "python",
   "pygments_lexer": "ipython3",
   "version": "3.10.13"
  }
 },
 "nbformat": 4,
 "nbformat_minor": 4
}
