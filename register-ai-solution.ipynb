{
 "cells": [
  {
   "attachments": {},
   "cell_type": "markdown",
   "metadata": {},
   "source": [
    "### **STEP-1**. <b>Preparation</b>\n",
    "> <font color=red> **Note** </font> You can proceed with the registration process after executing AI solution by \"python main.py\" first! \n",
    "\n",
    "<b>Create a Jupyter kernel</b>\n",
    "```bash\n",
    "    # At virtual environment where \"python main.py\" was executed\n",
    "    conda activate {MY-ENV-NAME}           \n",
    "    pip install ipykernel        \n",
    "    python -m ipykernel install --user --name {MY-ENV-NAME} --display-name {MY-IPYKERNEL-NAME}\n",
    "```\n"
   ]
  },
  {
   "attachments": {},
   "cell_type": "markdown",
   "metadata": {},
   "source": [
    "### **STEP-2**. <b>Enter Login ID/PW</b>\n",
    "\n",
    "> If the connection fails, please request the account administrator to create an account for you\n"
   ]
  },
  {
   "cell_type": "code",
   "execution_count": null,
   "metadata": {
    "tags": []
   },
   "outputs": [],
   "source": [
    "import getpass\n",
    "\n",
    "username = input('Username: ')\n",
    "password = getpass.getpass('Password: ')\n",
    "\n",
    "print(\"Your ID : \", username)\n",
    "print(\"Your PW : \", password.replace(password, '*' * len(password)))"
   ]
  },
  {
   "cell_type": "markdown",
   "metadata": {},
   "source": [
    "----"
   ]
  },
  {
   "attachments": {},
   "cell_type": "markdown",
   "metadata": {},
   "source": [
    "### **STEP-3**. <b>Register AI Solution</b>\n",
    "\n",
    "##### <b>Solution information creation</b>\n",
    "- <b>solution_name</b>: name of the solution \n",
    "    - <font color=red> **Note** </font> \n",
    "        - Allowed: lowercase letters, number, dash (-)\n",
    "            - (Spaces, Special characters, and Korean are not supported.)\n",
    "        - Since it will be shared with other users in AI Conductor, it should be written    understandably.\n",
    "        - Names already exist are not allowed. (Only allowed when \"solution_update=True\")\n",
    "<br><br/>\n",
    "- <b>inference_only</b>: Indicates whether the pipeline supports both 'train' and 'inference' \n",
    "    - ex 1: Supports both train and inference --> False\n",
    "    - ex 2: Supports inference only --> True\n",
    "    <br/> (<font color=red> **Note:** </font>  Does not support train only --> ['train'] (X))\n",
    "<br><br/>\n",
    "- <b>solution_update</b>: Decides whether to update an existing solution.\n",
    "    - True: Proceed with the update. Enter the same name as the existing one (an error occurs if the name does not exist)\n",
    "    - False: Create new name. Enter a different name from the existing one (an error occurs if the name exists)\n",
    "<br><br/>\n",
    "- <b>overview</b>: Write an overall description of the AI ​​Solution.\n",
    "<br><br/>\n",
    "- <b>detail</b>: Write a detailed description of the AI ​​solution as a list of {string title: string content} elements.\n",
    "    - example: [{'my key 1': 'my content 1'}, {'my key 2': 'my content 2'}] \n",
    "<br><br/>\n",
    "- <b>contents_type</b>: Description for re-train and re-labeling.\n",
    "    - support_labeling: Decide whether to enable re-labeling. If True, re-labeling feature is activated in EdgeConductor.\n",
    "    - inference_result_datatype: Choose between 'table' and 'image' for displaying inference results in EdgeConductor. Must create output.csv or output.jpg during AI solution production.\n",
    "    - train_datatype: Decide the data format for re-train, choosing between 'table' and 'image'.Must create output.csv or output.jpg during AI solution production.\n",
    "    - labeling_column_name: Label column name to be used when relabeling.\n",
    "<br><br/>\n",
    "- <b>train_gpu</b>: Choose between True and False. If True, produce a GPU-based train docker image.\n",
    "<br><br/>\n",
    "- <b>inference_gpu</b>: Choose between True and False. If True, produce a GPU-based inference docker image.\n",
    "<br><br/>\n",
    "- <b>inference_arm</b>: Choose between True and False. If True, produce an inference docker image supporting ARM architecture."
   ]
  },
  {
   "cell_type": "code",
   "execution_count": null,
   "metadata": {
    "tags": []
   },
   "outputs": [],
   "source": [
    "##  AI Solution Information         \n",
    "solution_info ={\n",
    "    'solution_name': 'my-solution', \n",
    "    'inference_only': False,\n",
    "    'solution_update': False,\n",
    "    'overview': \"Write an overall description of the AI ​​Solution.\",\n",
    "    'detail': [\n",
    "        {'title': 'title001', 'content': 'content001'},\n",
    "        {'title': 'title002', 'content': 'content002'},  \n",
    "        ],\n",
    "    'contents_type': {\n",
    "            'support_labeling': False,\n",
    "            'inference_result_datatype': 'table',\n",
    "            'train_datatype': 'table', \n",
    "            'labeling_column_name': ''\n",
    "    },\n",
    "    'train_gpu': False, \n",
    "    'inference_gpu': False,\n",
    "    \"inference_arm\": False\n",
    "}"
   ]
  },
  {
   "attachments": {},
   "cell_type": "markdown",
   "metadata": {},
   "source": [
    "##### <b> Load infra setup configuration for AI solution operation information </b>\n",
    "> Set the infra environment by referring to <b> \"./setting/infra_config.yaml\" </b>. "
   ]
  },
  {
   "cell_type": "markdown",
   "metadata": {},
   "source": [
    "##### <b> Run solution registration </b>\n",
    "> The following processes are executed sequentially.\n",
    "> 1. Set solution settings (name..)\n",
    "> 2. Check ECR & S3 resource\n",
    "> 3. Set user parameters \n",
    "> 4. Upload data to S3\n",
    "> 5. Upload artifacts to S3\n",
    "> 6. Build & push docker \n",
    "> 7. Register AI solution\n"
   ]
  },
  {
   "cell_type": "code",
   "execution_count": null,
   "metadata": {
    "tags": []
   },
   "outputs": [],
   "source": [
    "import sys\n",
    "try:\n",
    "    del sys.modules['src.solution_register'], sys.modules['src.constants']\n",
    "except:\n",
    "    pass\n",
    "from src.solution_register import SolutionRegister\n",
    "## set register instance\n",
    "infra = \"./setting/infra_config.yaml\"\n",
    "register = SolutionRegister(infra_setup=infra, solution_info=solution_info)\n",
    "\n",
    "## login AI Conductor \n",
    "register.login(username, password)\n",
    "\n",
    "## register AI solution \n",
    "register.run()"
   ]
  }
 ],
 "metadata": {
  "kernelspec": {
   "display_name": "alo-wrZHZPJV",
   "language": "python",
   "name": "python3"
  },
  "language_info": {
   "codemirror_mode": {
    "name": "ipython",
    "version": 3
   },
   "file_extension": ".py",
   "mimetype": "text/x-python",
   "name": "python",
   "nbconvert_exporter": "python",
   "pygments_lexer": "ipython3",
   "version": "3.10.13"
  }
 },
 "nbformat": 4,
 "nbformat_minor": 4
}
